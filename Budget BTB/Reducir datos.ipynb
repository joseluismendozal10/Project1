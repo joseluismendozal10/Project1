{
 "cells": [
  {
   "cell_type": "code",
   "execution_count": 1,
   "metadata": {},
   "outputs": [],
   "source": [
    "# Dependencies and Setup\n",
    "import pandas as pd\n",
    "import numpy as np\n",
    "\n",
    "# File to Load (Remember to Change These)\n",
    "budget_data_to_load = \"presupuesto.csv\"\n",
    "\n",
    "# Read School and Student Data File and store into Pandas Data Frames\n",
    "budget_df = pd.read_csv(budget_data_to_load, sep=\";\",low_memory=False)\n",
    "#list(budget_df)"
   ]
  },
  {
   "cell_type": "code",
   "execution_count": 2,
   "metadata": {},
   "outputs": [],
   "source": [
    "#Create Data Frame\n",
    "budget_df=budget_df[budget_df[\"CICLO\"]==2018]\n",
    "budget_df= budget_df[[\"DESC_UNIDAD_RESPONSABLE\", \"DESC_SUBFUNCION\", \"Monto ejercido\" ]]\n",
    "budget_df.columns=[\"Alcaldia\", \"Rubro\", \"Monto ejercido\"]"
   ]
  },
  {
   "cell_type": "code",
   "execution_count": 3,
   "metadata": {},
   "outputs": [
    {
     "data": {
      "text/html": [
       "<div>\n",
       "<style scoped>\n",
       "    .dataframe tbody tr th:only-of-type {\n",
       "        vertical-align: middle;\n",
       "    }\n",
       "\n",
       "    .dataframe tbody tr th {\n",
       "        vertical-align: top;\n",
       "    }\n",
       "\n",
       "    .dataframe thead th {\n",
       "        text-align: right;\n",
       "    }\n",
       "</style>\n",
       "<table border=\"1\" class=\"dataframe\">\n",
       "  <thead>\n",
       "    <tr style=\"text-align: right;\">\n",
       "      <th></th>\n",
       "      <th>Alcaldia</th>\n",
       "      <th>Rubro</th>\n",
       "      <th>Monto ejercido</th>\n",
       "    </tr>\n",
       "  </thead>\n",
       "  <tbody>\n",
       "    <tr>\n",
       "      <th>300</th>\n",
       "      <td>Alcaldía Álvaro Obregón</td>\n",
       "      <td>Otros</td>\n",
       "      <td>260997.10</td>\n",
       "    </tr>\n",
       "    <tr>\n",
       "      <th>301</th>\n",
       "      <td>Alcaldía Álvaro Obregón</td>\n",
       "      <td>Otros</td>\n",
       "      <td>18889773.23</td>\n",
       "    </tr>\n",
       "    <tr>\n",
       "      <th>302</th>\n",
       "      <td>Alcaldía Álvaro Obregón</td>\n",
       "      <td>Otros</td>\n",
       "      <td>23129943.45</td>\n",
       "    </tr>\n",
       "    <tr>\n",
       "      <th>303</th>\n",
       "      <td>Alcaldía Álvaro Obregón</td>\n",
       "      <td>Otros</td>\n",
       "      <td>1283799.76</td>\n",
       "    </tr>\n",
       "    <tr>\n",
       "      <th>304</th>\n",
       "      <td>Alcaldía Álvaro Obregón</td>\n",
       "      <td>Otros</td>\n",
       "      <td>253331.00</td>\n",
       "    </tr>\n",
       "  </tbody>\n",
       "</table>\n",
       "</div>"
      ],
      "text/plain": [
       "                    Alcaldia  Rubro  Monto ejercido\n",
       "300  Alcaldía Álvaro Obregón  Otros       260997.10\n",
       "301  Alcaldía Álvaro Obregón  Otros     18889773.23\n",
       "302  Alcaldía Álvaro Obregón  Otros     23129943.45\n",
       "303  Alcaldía Álvaro Obregón  Otros      1283799.76\n",
       "304  Alcaldía Álvaro Obregón  Otros       253331.00"
      ]
     },
     "execution_count": 3,
     "metadata": {},
     "output_type": "execute_result"
    }
   ],
   "source": [
    "# Drop all rows with missing information\n",
    "budget_df = budget_df.dropna(how='any')\n",
    "budget_df.reset_index(drop=True)\n",
    "budget_df.head()"
   ]
  },
  {
   "cell_type": "code",
   "execution_count": 5,
   "metadata": {},
   "outputs": [],
   "source": [
    "export_csv = budget_df.to_csv (\"Budget_Data.csv\", index = None, header=True) "
   ]
  },
  {
   "cell_type": "code",
   "execution_count": null,
   "metadata": {},
   "outputs": [],
   "source": []
  }
 ],
 "metadata": {
  "kernelspec": {
   "display_name": "Python 3",
   "language": "python",
   "name": "python3"
  },
  "language_info": {
   "codemirror_mode": {
    "name": "ipython",
    "version": 3
   },
   "file_extension": ".py",
   "mimetype": "text/x-python",
   "name": "python",
   "nbconvert_exporter": "python",
   "pygments_lexer": "ipython3",
   "version": "3.7.3"
  }
 },
 "nbformat": 4,
 "nbformat_minor": 2
}
