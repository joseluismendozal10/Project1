{
 "cells": [
  {
   "cell_type": "code",
   "execution_count": 1,
   "metadata": {},
   "outputs": [],
   "source": [
    "#%matplotlib notebook"
   ]
  },
  {
   "cell_type": "code",
   "execution_count": 2,
   "metadata": {},
   "outputs": [],
   "source": [
    "import pandas as pd\n",
    "import unicodedata\n",
    "import matplotlib.pyplot as plt\n",
    "import numpy as np"
   ]
  },
  {
   "cell_type": "code",
   "execution_count": 3,
   "metadata": {},
   "outputs": [],
   "source": [
    "#1.0 OBTAIN INITIAL FILES\n",
    "    #1.01 Carpetas de Investigación\n",
    "        #1.01.01 Download file from the following url\n",
    "        #https://datos.cdmx.gob.mx/explore/dataset/carpetas-de-investigacion-pgj-cdmx/download/?format=csv&timezone=America/Mexico_City&use_labels_for_header=true\n",
    "    \n",
    "        #1.01.02 Save as \"Carpetas de Investigación PGJ CDMX.csv\" in current folder\n",
    "    \n",
    "    #1.02 Alcaldías in CDMX\n",
    "    \n",
    " "
   ]
  },
  {
   "cell_type": "code",
   "execution_count": 4,
   "metadata": {},
   "outputs": [
    {
     "ename": "UnicodeDecodeError",
     "evalue": "'utf-8' codec can't decode byte 0xf3 in position 11: invalid continuation byte",
     "output_type": "error",
     "traceback": [
      "\u001b[1;31m---------------------------------------------------------------------------\u001b[0m",
      "\u001b[1;31mUnicodeDecodeError\u001b[0m                        Traceback (most recent call last)",
      "\u001b[1;32m<ipython-input-4-ab19e77b0825>\u001b[0m in \u001b[0;36m<module>\u001b[1;34m\u001b[0m\n\u001b[0;32m     12\u001b[0m \u001b[1;31m#2.04 Demographic information\u001b[0m\u001b[1;33m\u001b[0m\u001b[1;33m\u001b[0m\u001b[1;33m\u001b[0m\u001b[0m\n\u001b[0;32m     13\u001b[0m \u001b[1;31m#2.05 Crime Clasification\u001b[0m\u001b[1;33m\u001b[0m\u001b[1;33m\u001b[0m\u001b[1;33m\u001b[0m\u001b[0m\n\u001b[1;32m---> 14\u001b[1;33m \u001b[0mPGJ_Class\u001b[0m\u001b[1;33m=\u001b[0m\u001b[0mpd\u001b[0m\u001b[1;33m.\u001b[0m\u001b[0mread_csv\u001b[0m\u001b[1;33m(\u001b[0m\u001b[1;34m\"Clasificación Delitos.csv\"\u001b[0m\u001b[1;33m)\u001b[0m\u001b[1;33m\u001b[0m\u001b[1;33m\u001b[0m\u001b[0m\n\u001b[0m\u001b[0;32m     15\u001b[0m \u001b[0mPGJ_Class\u001b[0m\u001b[1;33m\u001b[0m\u001b[1;33m\u001b[0m\u001b[0m\n",
      "\u001b[1;32m~\\Anaconda3\\lib\\site-packages\\pandas\\io\\parsers.py\u001b[0m in \u001b[0;36mparser_f\u001b[1;34m(filepath_or_buffer, sep, delimiter, header, names, index_col, usecols, squeeze, prefix, mangle_dupe_cols, dtype, engine, converters, true_values, false_values, skipinitialspace, skiprows, skipfooter, nrows, na_values, keep_default_na, na_filter, verbose, skip_blank_lines, parse_dates, infer_datetime_format, keep_date_col, date_parser, dayfirst, iterator, chunksize, compression, thousands, decimal, lineterminator, quotechar, quoting, doublequote, escapechar, comment, encoding, dialect, tupleize_cols, error_bad_lines, warn_bad_lines, delim_whitespace, low_memory, memory_map, float_precision)\u001b[0m\n\u001b[0;32m    700\u001b[0m                     skip_blank_lines=skip_blank_lines)\n\u001b[0;32m    701\u001b[0m \u001b[1;33m\u001b[0m\u001b[0m\n\u001b[1;32m--> 702\u001b[1;33m         \u001b[1;32mreturn\u001b[0m \u001b[0m_read\u001b[0m\u001b[1;33m(\u001b[0m\u001b[0mfilepath_or_buffer\u001b[0m\u001b[1;33m,\u001b[0m \u001b[0mkwds\u001b[0m\u001b[1;33m)\u001b[0m\u001b[1;33m\u001b[0m\u001b[1;33m\u001b[0m\u001b[0m\n\u001b[0m\u001b[0;32m    703\u001b[0m \u001b[1;33m\u001b[0m\u001b[0m\n\u001b[0;32m    704\u001b[0m     \u001b[0mparser_f\u001b[0m\u001b[1;33m.\u001b[0m\u001b[0m__name__\u001b[0m \u001b[1;33m=\u001b[0m \u001b[0mname\u001b[0m\u001b[1;33m\u001b[0m\u001b[1;33m\u001b[0m\u001b[0m\n",
      "\u001b[1;32m~\\Anaconda3\\lib\\site-packages\\pandas\\io\\parsers.py\u001b[0m in \u001b[0;36m_read\u001b[1;34m(filepath_or_buffer, kwds)\u001b[0m\n\u001b[0;32m    427\u001b[0m \u001b[1;33m\u001b[0m\u001b[0m\n\u001b[0;32m    428\u001b[0m     \u001b[1;31m# Create the parser.\u001b[0m\u001b[1;33m\u001b[0m\u001b[1;33m\u001b[0m\u001b[1;33m\u001b[0m\u001b[0m\n\u001b[1;32m--> 429\u001b[1;33m     \u001b[0mparser\u001b[0m \u001b[1;33m=\u001b[0m \u001b[0mTextFileReader\u001b[0m\u001b[1;33m(\u001b[0m\u001b[0mfilepath_or_buffer\u001b[0m\u001b[1;33m,\u001b[0m \u001b[1;33m**\u001b[0m\u001b[0mkwds\u001b[0m\u001b[1;33m)\u001b[0m\u001b[1;33m\u001b[0m\u001b[1;33m\u001b[0m\u001b[0m\n\u001b[0m\u001b[0;32m    430\u001b[0m \u001b[1;33m\u001b[0m\u001b[0m\n\u001b[0;32m    431\u001b[0m     \u001b[1;32mif\u001b[0m \u001b[0mchunksize\u001b[0m \u001b[1;32mor\u001b[0m \u001b[0miterator\u001b[0m\u001b[1;33m:\u001b[0m\u001b[1;33m\u001b[0m\u001b[1;33m\u001b[0m\u001b[0m\n",
      "\u001b[1;32m~\\Anaconda3\\lib\\site-packages\\pandas\\io\\parsers.py\u001b[0m in \u001b[0;36m__init__\u001b[1;34m(self, f, engine, **kwds)\u001b[0m\n\u001b[0;32m    893\u001b[0m             \u001b[0mself\u001b[0m\u001b[1;33m.\u001b[0m\u001b[0moptions\u001b[0m\u001b[1;33m[\u001b[0m\u001b[1;34m'has_index_names'\u001b[0m\u001b[1;33m]\u001b[0m \u001b[1;33m=\u001b[0m \u001b[0mkwds\u001b[0m\u001b[1;33m[\u001b[0m\u001b[1;34m'has_index_names'\u001b[0m\u001b[1;33m]\u001b[0m\u001b[1;33m\u001b[0m\u001b[1;33m\u001b[0m\u001b[0m\n\u001b[0;32m    894\u001b[0m \u001b[1;33m\u001b[0m\u001b[0m\n\u001b[1;32m--> 895\u001b[1;33m         \u001b[0mself\u001b[0m\u001b[1;33m.\u001b[0m\u001b[0m_make_engine\u001b[0m\u001b[1;33m(\u001b[0m\u001b[0mself\u001b[0m\u001b[1;33m.\u001b[0m\u001b[0mengine\u001b[0m\u001b[1;33m)\u001b[0m\u001b[1;33m\u001b[0m\u001b[1;33m\u001b[0m\u001b[0m\n\u001b[0m\u001b[0;32m    896\u001b[0m \u001b[1;33m\u001b[0m\u001b[0m\n\u001b[0;32m    897\u001b[0m     \u001b[1;32mdef\u001b[0m \u001b[0mclose\u001b[0m\u001b[1;33m(\u001b[0m\u001b[0mself\u001b[0m\u001b[1;33m)\u001b[0m\u001b[1;33m:\u001b[0m\u001b[1;33m\u001b[0m\u001b[1;33m\u001b[0m\u001b[0m\n",
      "\u001b[1;32m~\\Anaconda3\\lib\\site-packages\\pandas\\io\\parsers.py\u001b[0m in \u001b[0;36m_make_engine\u001b[1;34m(self, engine)\u001b[0m\n\u001b[0;32m   1120\u001b[0m     \u001b[1;32mdef\u001b[0m \u001b[0m_make_engine\u001b[0m\u001b[1;33m(\u001b[0m\u001b[0mself\u001b[0m\u001b[1;33m,\u001b[0m \u001b[0mengine\u001b[0m\u001b[1;33m=\u001b[0m\u001b[1;34m'c'\u001b[0m\u001b[1;33m)\u001b[0m\u001b[1;33m:\u001b[0m\u001b[1;33m\u001b[0m\u001b[1;33m\u001b[0m\u001b[0m\n\u001b[0;32m   1121\u001b[0m         \u001b[1;32mif\u001b[0m \u001b[0mengine\u001b[0m \u001b[1;33m==\u001b[0m \u001b[1;34m'c'\u001b[0m\u001b[1;33m:\u001b[0m\u001b[1;33m\u001b[0m\u001b[1;33m\u001b[0m\u001b[0m\n\u001b[1;32m-> 1122\u001b[1;33m             \u001b[0mself\u001b[0m\u001b[1;33m.\u001b[0m\u001b[0m_engine\u001b[0m \u001b[1;33m=\u001b[0m \u001b[0mCParserWrapper\u001b[0m\u001b[1;33m(\u001b[0m\u001b[0mself\u001b[0m\u001b[1;33m.\u001b[0m\u001b[0mf\u001b[0m\u001b[1;33m,\u001b[0m \u001b[1;33m**\u001b[0m\u001b[0mself\u001b[0m\u001b[1;33m.\u001b[0m\u001b[0moptions\u001b[0m\u001b[1;33m)\u001b[0m\u001b[1;33m\u001b[0m\u001b[1;33m\u001b[0m\u001b[0m\n\u001b[0m\u001b[0;32m   1123\u001b[0m         \u001b[1;32melse\u001b[0m\u001b[1;33m:\u001b[0m\u001b[1;33m\u001b[0m\u001b[1;33m\u001b[0m\u001b[0m\n\u001b[0;32m   1124\u001b[0m             \u001b[1;32mif\u001b[0m \u001b[0mengine\u001b[0m \u001b[1;33m==\u001b[0m \u001b[1;34m'python'\u001b[0m\u001b[1;33m:\u001b[0m\u001b[1;33m\u001b[0m\u001b[1;33m\u001b[0m\u001b[0m\n",
      "\u001b[1;32m~\\Anaconda3\\lib\\site-packages\\pandas\\io\\parsers.py\u001b[0m in \u001b[0;36m__init__\u001b[1;34m(self, src, **kwds)\u001b[0m\n\u001b[0;32m   1851\u001b[0m         \u001b[0mkwds\u001b[0m\u001b[1;33m[\u001b[0m\u001b[1;34m'usecols'\u001b[0m\u001b[1;33m]\u001b[0m \u001b[1;33m=\u001b[0m \u001b[0mself\u001b[0m\u001b[1;33m.\u001b[0m\u001b[0musecols\u001b[0m\u001b[1;33m\u001b[0m\u001b[1;33m\u001b[0m\u001b[0m\n\u001b[0;32m   1852\u001b[0m \u001b[1;33m\u001b[0m\u001b[0m\n\u001b[1;32m-> 1853\u001b[1;33m         \u001b[0mself\u001b[0m\u001b[1;33m.\u001b[0m\u001b[0m_reader\u001b[0m \u001b[1;33m=\u001b[0m \u001b[0mparsers\u001b[0m\u001b[1;33m.\u001b[0m\u001b[0mTextReader\u001b[0m\u001b[1;33m(\u001b[0m\u001b[0msrc\u001b[0m\u001b[1;33m,\u001b[0m \u001b[1;33m**\u001b[0m\u001b[0mkwds\u001b[0m\u001b[1;33m)\u001b[0m\u001b[1;33m\u001b[0m\u001b[1;33m\u001b[0m\u001b[0m\n\u001b[0m\u001b[0;32m   1854\u001b[0m         \u001b[0mself\u001b[0m\u001b[1;33m.\u001b[0m\u001b[0munnamed_cols\u001b[0m \u001b[1;33m=\u001b[0m \u001b[0mself\u001b[0m\u001b[1;33m.\u001b[0m\u001b[0m_reader\u001b[0m\u001b[1;33m.\u001b[0m\u001b[0munnamed_cols\u001b[0m\u001b[1;33m\u001b[0m\u001b[1;33m\u001b[0m\u001b[0m\n\u001b[0;32m   1855\u001b[0m \u001b[1;33m\u001b[0m\u001b[0m\n",
      "\u001b[1;32mpandas/_libs/parsers.pyx\u001b[0m in \u001b[0;36mpandas._libs.parsers.TextReader.__cinit__\u001b[1;34m()\u001b[0m\n",
      "\u001b[1;32mpandas/_libs/parsers.pyx\u001b[0m in \u001b[0;36mpandas._libs.parsers.TextReader._setup_parser_source\u001b[1;34m()\u001b[0m\n",
      "\u001b[1;32m~\\Anaconda3\\lib\\genericpath.py\u001b[0m in \u001b[0;36mexists\u001b[1;34m(path)\u001b[0m\n\u001b[0;32m     17\u001b[0m     \u001b[1;34m\"\"\"Test whether a path exists.  Returns False for broken symbolic links\"\"\"\u001b[0m\u001b[1;33m\u001b[0m\u001b[1;33m\u001b[0m\u001b[0m\n\u001b[0;32m     18\u001b[0m     \u001b[1;32mtry\u001b[0m\u001b[1;33m:\u001b[0m\u001b[1;33m\u001b[0m\u001b[1;33m\u001b[0m\u001b[0m\n\u001b[1;32m---> 19\u001b[1;33m         \u001b[0mos\u001b[0m\u001b[1;33m.\u001b[0m\u001b[0mstat\u001b[0m\u001b[1;33m(\u001b[0m\u001b[0mpath\u001b[0m\u001b[1;33m)\u001b[0m\u001b[1;33m\u001b[0m\u001b[1;33m\u001b[0m\u001b[0m\n\u001b[0m\u001b[0;32m     20\u001b[0m     \u001b[1;32mexcept\u001b[0m \u001b[0mOSError\u001b[0m\u001b[1;33m:\u001b[0m\u001b[1;33m\u001b[0m\u001b[1;33m\u001b[0m\u001b[0m\n\u001b[0;32m     21\u001b[0m         \u001b[1;32mreturn\u001b[0m \u001b[1;32mFalse\u001b[0m\u001b[1;33m\u001b[0m\u001b[1;33m\u001b[0m\u001b[0m\n",
      "\u001b[1;31mUnicodeDecodeError\u001b[0m: 'utf-8' codec can't decode byte 0xf3 in position 11: invalid continuation byte"
     ]
    }
   ],
   "source": [
    "#2. UPLOAD IN PYTHON FILES\n",
    "\n",
    "#2.01 Carpetas de Investigación (PGJ Files)\n",
    "PGJ_input=pd.read_csv(\"Carpetas de Investigación PGJ CDMX.csv\",sep=\";\")\n",
    "#PGJ_input.head()\n",
    "\n",
    "#2.02 Alcaldías (Town Halls)\n",
    "Alcaldias_input=pd.read_csv(\"Alcaldías.csv\",sep=\";\")\n",
    "#Alcaldias_input\n",
    "\n",
    "#2.03 Budget information\n",
    "#2.04 Demographic information\n",
    "#2.05 Crime Clasification\n",
    "PGJ_Class=pd.read_csv(\"Clasificación Delitos.csv\")\n",
    "PGJ_Class"
   ]
  },
  {
   "cell_type": "code",
   "execution_count": 5,
   "metadata": {},
   "outputs": [
    {
     "data": {
      "text/plain": [
       "['TLALPAN',\n",
       " 'TLAHUAC',\n",
       " 'VENUSTIANO CARRANZA',\n",
       " 'CUAUHTEMOC',\n",
       " 'IZTAPALAPA',\n",
       " 'AZCAPOTZALCO',\n",
       " 'BENITO JUAREZ',\n",
       " 'CUAJIMALPA DE MORELOS',\n",
       " 'IZTACALCO',\n",
       " 'GUSTAVO A MADERO',\n",
       " 'MIGUEL HIDALGO',\n",
       " 'LA MAGDALENA CONTRERAS',\n",
       " 'COYOACAN',\n",
       " 'MILPA ALTA',\n",
       " 'ALVARO OBREGON',\n",
       " 'XOCHIMILCO']"
      ]
     },
     "execution_count": 5,
     "metadata": {},
     "output_type": "execute_result"
    }
   ],
   "source": [
    "# 3.0 Adjust the Town Halls names (upper cases, no accents)\n",
    "\n",
    "#3.01 From Alcaldias file.\n",
    "    #3.01.02 Define variable alcaldias in order to have a list of all the \"Alcaldias\" in CDMX\n",
    "alcaldias=Alcaldias_input[\"NOMBRE\"]\n",
    "alcaldias=alcaldias.str.replace(\"Á\",\"A\")\n",
    "alcaldias=alcaldias.str.replace(\"á\",\"a\")\n",
    "alcaldias=alcaldias.str.replace(\"É\",\"E\")\n",
    "alcaldias=alcaldias.str.replace(\"é\",\"e\")\n",
    "alcaldias=alcaldias.str.replace(\"Í\",\"I\")\n",
    "alcaldias=alcaldias.str.replace(\"í\",\"i\")\n",
    "alcaldias=alcaldias.str.replace(\"Ó\",\"O\")\n",
    "alcaldias=alcaldias.str.replace(\"ó\",\"o\")\n",
    "alcaldias=alcaldias.str.replace(\"Ú\",\"u\")\n",
    "alcaldias=alcaldias.str.replace(\"ú\",\"u\")\n",
    "alcaldias=alcaldias.str.replace(\".\",\"\")\n",
    "alcaldias = [alcaldia.upper() for alcaldia in alcaldias]\n",
    "alcaldias\n",
    "\n",
    "#3.02 From Budget File\n",
    "\n",
    "#3.03 From Dempographics file"
   ]
  },
  {
   "cell_type": "code",
   "execution_count": 6,
   "metadata": {},
   "outputs": [],
   "source": [
    "#4.0 Filter only the data needed\n",
    "\n",
    "#4.01 Alcaldias in CMX\n",
    "    #4.01.01 From the PGJ files\n",
    "PGJ_alcaldias=PGJ_input.loc[PGJ_input[\"alcaldia_hechos\"].isin(alcaldias),:]\n",
    "#PGJ_alcaldias\n",
    "\n",
    "    #4.01.02 From the Budget file\n",
    "\n",
    "    #4.01.03 from the Demographics file"
   ]
  },
  {
   "cell_type": "code",
   "execution_count": 7,
   "metadata": {},
   "outputs": [],
   "source": [
    "# 4.02 Years that will be included in the analysis of crime rates, for the rest of the information\n",
    "Primer_año=2016\n",
    "Ultimo_año=2019\n",
    "\n",
    "# 4.02.01 The historic data will only be considered in the PGJ files to review historic changes in the crime rates\n",
    "PGJ_Hist=PGJ_alcaldias.loc[PGJ_alcaldias[\"año_hechos\"]>Primer_año-1,:]\n",
    "PGJ_Hist=PGJ_Hist.loc[PGJ_Hist[\"año_hechos\"]<Ultimo_año+1,:]\n",
    "#PGJ_Hist.head()\n",
    "\n",
    "#4.02.02 The budget used will be last year's Budget in order to have full year of Crime Vs Full budget usage\n",
    "#4.02.03 The Demographic information will be from the last census registered\n"
   ]
  },
  {
   "cell_type": "code",
   "execution_count": 8,
   "metadata": {},
   "outputs": [],
   "source": [
    "#5.0 Define the Crimes that will be tracked to narrow the scope\n",
    "\n",
    "#5.01 For these exercise, we will only review the Top 30 crimes from 2018\n",
    "PGJ_2018=PGJ_alcaldias.loc[PGJ_alcaldias[\"año_hechos\"]==2018,:]\n",
    "PGJ_Top30_2018=PGJ_2018.groupby([\"delito\"],as_index=False).count()\n",
    "PGJ_Top30_2018=(PGJ_Top30_2018.sort_values(by =\"año_hechos\",ascending=False)).head(30)\n",
    "PGJ_Top30_2018=PGJ_Top30_2018[\"delito\"]\n",
    "PGJ_Top30_2018=PGJ_Top30_2018.tolist()\n",
    "#PGJ_Top30_2018"
   ]
  },
  {
   "cell_type": "code",
   "execution_count": 9,
   "metadata": {},
   "outputs": [],
   "source": [
    "#6.0 Filter only the crimes included in the Top 30 from 2018\n",
    "PGJ_Top_Hist=PGJ_Hist.loc[PGJ_Hist[\"delito\"].isin(PGJ_Top30_2018),:]\n",
    "#PGJ_201X Separate by Year \n",
    "PGJ_2016=PGJ_alcaldias.loc[PGJ_alcaldias[\"año_hechos\"]==2016,:]\n",
    "PGJ_2017=PGJ_alcaldias.loc[PGJ_alcaldias[\"año_hechos\"]==2017,:]\n",
    "PGJ_2018=PGJ_alcaldias.loc[PGJ_alcaldias[\"año_hechos\"]==2018,:]\n",
    "PGJ_2019=PGJ_alcaldias.loc[PGJ_alcaldias[\"año_hechos\"]==2019,:]\n",
    "\n",
    "#PGJ_Top_Hist[\"delito\"].unique() #--> Should give the Top 30 crimes in 2018\n",
    "#PGJ_Top_Hist[\"año_hechos\"].unique() #--> Should give the years from Primer_año to Ultimo_año\n",
    "\n",
    "PGJ_Top_Delitos_2016=PGJ_2016.loc[PGJ_input[\"delito\"].isin(PGJ_Top30_2018),:]\n",
    "PGJ_Top_Delitos_2017=PGJ_2017.loc[PGJ_input[\"delito\"].isin(PGJ_Top30_2018),:]\n",
    "PGJ_Top_Delitos_2018=PGJ_2018.loc[PGJ_input[\"delito\"].isin(PGJ_Top30_2018),:]\n",
    "PGJ_Top_Delitos_2019=PGJ_2019.loc[PGJ_input[\"delito\"].isin(PGJ_Top30_2018),:]\n"
   ]
  },
  {
   "cell_type": "code",
   "execution_count": 10,
   "metadata": {},
   "outputs": [
    {
     "data": {
      "text/plain": [
       "149532"
      ]
     },
     "execution_count": 10,
     "metadata": {},
     "output_type": "execute_result"
    }
   ],
   "source": [
    "Delitos_Alcaldia_2016 = PGJ_Top_Delitos_2016.groupby(\"alcaldia_hechos\").count()\n",
    "Delitos_Alcaldia_2016\n",
    "Delitos_Alcaldia_2016_Resume = Delitos_Alcaldia_2016['delito'].reset_index()\n",
    "Delitos_Alcaldia_2016_Resume = Delitos_Alcaldia_2016_Resume.rename(columns = {\"delito\":\"Delitos_2016\"})\n",
    "Delitos_Alcaldia_2016_Resume_df = pd.DataFrame(Delitos_Alcaldia_2016_Resume)\n",
    "#Delitos_Alcaldia_2016_Resume_df\n",
    "Total_Delitos_2016 = Delitos_Alcaldia_2016[\"delito\"].sum()\n",
    "Total_Delitos_2016"
   ]
  },
  {
   "cell_type": "code",
   "execution_count": 11,
   "metadata": {},
   "outputs": [
    {
     "data": {
      "text/plain": [
       "178743"
      ]
     },
     "execution_count": 11,
     "metadata": {},
     "output_type": "execute_result"
    }
   ],
   "source": [
    "Delitos_Alcaldia_2017 = PGJ_Top_Delitos_2017.groupby(\"alcaldia_hechos\").count()\n",
    "Delitos_Alcaldia_2017\n",
    "Delitos_Alcaldia_2017_Resume = Delitos_Alcaldia_2017['delito'].reset_index()\n",
    "Delitos_Alcaldia_2017_Resume = Delitos_Alcaldia_2017_Resume.rename(columns = {\"delito\":\"Delitos_2017\"})\n",
    "Delitos_Alcaldia_2017_Resume_df = pd.DataFrame(Delitos_Alcaldia_2017_Resume)\n",
    "#Delitos_Alcaldia_2017_Resume_df\n",
    "Total_Delitos_2017 = Delitos_Alcaldia_2017[\"delito\"].sum()\n",
    "Total_Delitos_2017"
   ]
  },
  {
   "cell_type": "code",
   "execution_count": 12,
   "metadata": {},
   "outputs": [
    {
     "data": {
      "text/plain": [
       "198627"
      ]
     },
     "execution_count": 12,
     "metadata": {},
     "output_type": "execute_result"
    }
   ],
   "source": [
    "Delitos_Alcaldia_2018 = PGJ_Top_Delitos_2018.groupby(\"alcaldia_hechos\").count()\n",
    "Delitos_Alcaldia_2018\n",
    "Delitos_Alcaldia_2018_Resume = Delitos_Alcaldia_2018['delito'].reset_index()\n",
    "Delitos_Alcaldia_2018_Resume = Delitos_Alcaldia_2018_Resume.rename(columns = {\"delito\":\"Delitos_2018\"})\n",
    "Delitos_Alcaldia_2018_Resume_df = pd.DataFrame(Delitos_Alcaldia_2018_Resume)\n",
    "#Delitos_Alcaldia_2018_Resume_df\n",
    "Total_Delitos_2018 = Delitos_Alcaldia_2018[\"delito\"].sum()\n",
    "Total_Delitos_2018"
   ]
  },
  {
   "cell_type": "code",
   "execution_count": 13,
   "metadata": {},
   "outputs": [
    {
     "data": {
      "text/plain": [
       "69182"
      ]
     },
     "execution_count": 13,
     "metadata": {},
     "output_type": "execute_result"
    }
   ],
   "source": [
    "Delitos_Alcaldia_2019 = PGJ_Top_Delitos_2019.groupby(\"alcaldia_hechos\").count()\n",
    "Delitos_Alcaldia_2019\n",
    "Delitos_Alcaldia_2019_Resume = Delitos_Alcaldia_2019['delito'].reset_index()\n",
    "Delitos_Alcaldia_2019_Resume = Delitos_Alcaldia_2019_Resume.rename(columns = {\"delito\":\"Delitos_2019\"})\n",
    "Delitos_Alcaldia_2019_Resume_df = pd.DataFrame(Delitos_Alcaldia_2019_Resume)\n",
    "#Delitos_Alcaldia_2019_Resume_df\n",
    "Total_Delitos_2019 = Delitos_Alcaldia_2019[\"delito\"].sum()\n",
    "Total_Delitos_2019"
   ]
  },
  {
   "cell_type": "code",
   "execution_count": 14,
   "metadata": {},
   "outputs": [
    {
     "data": {
      "text/html": [
       "<div>\n",
       "<style scoped>\n",
       "    .dataframe tbody tr th:only-of-type {\n",
       "        vertical-align: middle;\n",
       "    }\n",
       "\n",
       "    .dataframe tbody tr th {\n",
       "        vertical-align: top;\n",
       "    }\n",
       "\n",
       "    .dataframe thead th {\n",
       "        text-align: right;\n",
       "    }\n",
       "</style>\n",
       "<table border=\"1\" class=\"dataframe\">\n",
       "  <thead>\n",
       "    <tr style=\"text-align: right;\">\n",
       "      <th></th>\n",
       "      <th>Total delitos</th>\n",
       "    </tr>\n",
       "  </thead>\n",
       "  <tbody>\n",
       "    <tr>\n",
       "      <th>2016</th>\n",
       "      <td>149532</td>\n",
       "    </tr>\n",
       "    <tr>\n",
       "      <th>2017</th>\n",
       "      <td>178743</td>\n",
       "    </tr>\n",
       "    <tr>\n",
       "      <th>2018</th>\n",
       "      <td>198627</td>\n",
       "    </tr>\n",
       "    <tr>\n",
       "      <th>2019</th>\n",
       "      <td>69182</td>\n",
       "    </tr>\n",
       "  </tbody>\n",
       "</table>\n",
       "</div>"
      ],
      "text/plain": [
       "      Total delitos\n",
       "2016         149532\n",
       "2017         178743\n",
       "2018         198627\n",
       "2019          69182"
      ]
     },
     "execution_count": 14,
     "metadata": {},
     "output_type": "execute_result"
    }
   ],
   "source": [
    "#7.0 HISTORIC INFORMATION FROM CRIMES\n",
    "#7.01 Create table with total crimes for CDMX (for the Top 30 2018 Crimes)\n",
    "años_total = {\"Total delitos\" : {'2016':Total_Delitos_2016, '2017':Total_Delitos_2017,\n",
    "           '2018':Total_Delitos_2018, '2019':Total_Delitos_2019}}\n",
    "años_total_df = pd.DataFrame(años_total)\n",
    "años_total_df"
   ]
  },
  {
   "cell_type": "code",
   "execution_count": 15,
   "metadata": {},
   "outputs": [
    {
     "data": {
      "image/png": "[encoded data removed]",
      "text/plain": [
       "<Figure size 432x288 with 1 Axes>"
      ]
     },
     "metadata": {
      "needs_background": "light"
     },
     "output_type": "display_data"
    }
   ],
   "source": [
    "#7.01.01 Create Graph for Total Crimes for CDMX\n",
    "x_axis = np.arange(2016,2019,1)\n",
    "points = [149532, 178743, 198627]\n",
    "Delitos_año = plt.plot(x_axis,points, color = \"red\", marker =\"o\", label = \"Top 30 By Years\")\n",
    "\n",
    "plt.legend(loc=\"upper left\", fontsize=10)\n",
    "plt.ylabel('Felonys', fontsize = 15)\n",
    "plt.xlabel('Years', fontsize = 15)\n",
    "plt.title(\"Felonys By Year\")\n",
    "plt.annotate('149,532', xy=(2016, 149532), fontsize= 15)             \n",
    "plt.annotate('178,743', xy=(2017, 178743), fontsize= 15) \n",
    "plt.annotate('198,627', xy=(2018, 198627), fontsize= 15)\n",
    "plt.ylim(140000,210000)\n",
    "plt.xlim(2015.75,2018.25)\n",
    "\n",
    "plt.savefig('años_total_df.png', bbox_inches='tight')\n",
    "\n",
    "plt.show()\n",
    "     "
   ]
  },
  {
   "cell_type": "code",
   "execution_count": 16,
   "metadata": {},
   "outputs": [
    {
     "data": {
      "text/html": [
       "<div>\n",
       "<style scoped>\n",
       "    .dataframe tbody tr th:only-of-type {\n",
       "        vertical-align: middle;\n",
       "    }\n",
       "\n",
       "    .dataframe tbody tr th {\n",
       "        vertical-align: top;\n",
       "    }\n",
       "\n",
       "    .dataframe thead th {\n",
       "        text-align: right;\n",
       "    }\n",
       "</style>\n",
       "<table border=\"1\" class=\"dataframe\">\n",
       "  <thead>\n",
       "    <tr style=\"text-align: right;\">\n",
       "      <th></th>\n",
       "      <th>alcaldia_hechos</th>\n",
       "      <th>Delitos_2016</th>\n",
       "      <th>Delitos_2017</th>\n",
       "      <th>Delitos_2018</th>\n",
       "      <th>Delitos_2019</th>\n",
       "    </tr>\n",
       "  </thead>\n",
       "  <tbody>\n",
       "    <tr>\n",
       "      <th>0</th>\n",
       "      <td>ALVARO OBREGON</td>\n",
       "      <td>9964</td>\n",
       "      <td>11668</td>\n",
       "      <td>13757</td>\n",
       "      <td>5362</td>\n",
       "    </tr>\n",
       "    <tr>\n",
       "      <th>1</th>\n",
       "      <td>AZCAPOTZALCO</td>\n",
       "      <td>7918</td>\n",
       "      <td>9274</td>\n",
       "      <td>9974</td>\n",
       "      <td>3311</td>\n",
       "    </tr>\n",
       "    <tr>\n",
       "      <th>2</th>\n",
       "      <td>BENITO JUAREZ</td>\n",
       "      <td>13699</td>\n",
       "      <td>17023</td>\n",
       "      <td>18853</td>\n",
       "      <td>6186</td>\n",
       "    </tr>\n",
       "    <tr>\n",
       "      <th>3</th>\n",
       "      <td>COYOACAN</td>\n",
       "      <td>11164</td>\n",
       "      <td>12704</td>\n",
       "      <td>14076</td>\n",
       "      <td>4659</td>\n",
       "    </tr>\n",
       "    <tr>\n",
       "      <th>4</th>\n",
       "      <td>CUAJIMALPA DE MORELOS</td>\n",
       "      <td>2141</td>\n",
       "      <td>2345</td>\n",
       "      <td>2690</td>\n",
       "      <td>1077</td>\n",
       "    </tr>\n",
       "    <tr>\n",
       "      <th>5</th>\n",
       "      <td>CUAUHTEMOC</td>\n",
       "      <td>23669</td>\n",
       "      <td>27887</td>\n",
       "      <td>30784</td>\n",
       "      <td>9975</td>\n",
       "    </tr>\n",
       "    <tr>\n",
       "      <th>6</th>\n",
       "      <td>GUSTAVO A MADERO</td>\n",
       "      <td>14063</td>\n",
       "      <td>17868</td>\n",
       "      <td>19675</td>\n",
       "      <td>7045</td>\n",
       "    </tr>\n",
       "    <tr>\n",
       "      <th>7</th>\n",
       "      <td>IZTACALCO</td>\n",
       "      <td>6371</td>\n",
       "      <td>7812</td>\n",
       "      <td>8820</td>\n",
       "      <td>3081</td>\n",
       "    </tr>\n",
       "    <tr>\n",
       "      <th>8</th>\n",
       "      <td>IZTAPALAPA</td>\n",
       "      <td>22160</td>\n",
       "      <td>26073</td>\n",
       "      <td>28709</td>\n",
       "      <td>10323</td>\n",
       "    </tr>\n",
       "    <tr>\n",
       "      <th>9</th>\n",
       "      <td>LA MAGDALENA CONTRERAS</td>\n",
       "      <td>2431</td>\n",
       "      <td>2632</td>\n",
       "      <td>2890</td>\n",
       "      <td>1268</td>\n",
       "    </tr>\n",
       "    <tr>\n",
       "      <th>10</th>\n",
       "      <td>MIGUEL HIDALGO</td>\n",
       "      <td>10036</td>\n",
       "      <td>12748</td>\n",
       "      <td>13645</td>\n",
       "      <td>4605</td>\n",
       "    </tr>\n",
       "    <tr>\n",
       "      <th>11</th>\n",
       "      <td>MILPA ALTA</td>\n",
       "      <td>807</td>\n",
       "      <td>1080</td>\n",
       "      <td>1309</td>\n",
       "      <td>452</td>\n",
       "    </tr>\n",
       "    <tr>\n",
       "      <th>12</th>\n",
       "      <td>TLAHUAC</td>\n",
       "      <td>3137</td>\n",
       "      <td>3944</td>\n",
       "      <td>4336</td>\n",
       "      <td>1554</td>\n",
       "    </tr>\n",
       "    <tr>\n",
       "      <th>13</th>\n",
       "      <td>TLALPAN</td>\n",
       "      <td>9116</td>\n",
       "      <td>10267</td>\n",
       "      <td>11456</td>\n",
       "      <td>4199</td>\n",
       "    </tr>\n",
       "    <tr>\n",
       "      <th>14</th>\n",
       "      <td>VENUSTIANO CARRANZA</td>\n",
       "      <td>8172</td>\n",
       "      <td>10154</td>\n",
       "      <td>12026</td>\n",
       "      <td>4031</td>\n",
       "    </tr>\n",
       "    <tr>\n",
       "      <th>15</th>\n",
       "      <td>XOCHIMILCO</td>\n",
       "      <td>4684</td>\n",
       "      <td>5264</td>\n",
       "      <td>5627</td>\n",
       "      <td>2054</td>\n",
       "    </tr>\n",
       "  </tbody>\n",
       "</table>\n",
       "</div>"
      ],
      "text/plain": [
       "           alcaldia_hechos  Delitos_2016  Delitos_2017  Delitos_2018  \\\n",
       "0           ALVARO OBREGON          9964         11668         13757   \n",
       "1             AZCAPOTZALCO          7918          9274          9974   \n",
       "2            BENITO JUAREZ         13699         17023         18853   \n",
       "3                 COYOACAN         11164         12704         14076   \n",
       "4    CUAJIMALPA DE MORELOS          2141          2345          2690   \n",
       "5               CUAUHTEMOC         23669         27887         30784   \n",
       "6         GUSTAVO A MADERO         14063         17868         19675   \n",
       "7                IZTACALCO          6371          7812          8820   \n",
       "8               IZTAPALAPA         22160         26073         28709   \n",
       "9   LA MAGDALENA CONTRERAS          2431          2632          2890   \n",
       "10          MIGUEL HIDALGO         10036         12748         13645   \n",
       "11              MILPA ALTA           807          1080          1309   \n",
       "12                 TLAHUAC          3137          3944          4336   \n",
       "13                 TLALPAN          9116         10267         11456   \n",
       "14     VENUSTIANO CARRANZA          8172         10154         12026   \n",
       "15              XOCHIMILCO          4684          5264          5627   \n",
       "\n",
       "    Delitos_2019  \n",
       "0           5362  \n",
       "1           3311  \n",
       "2           6186  \n",
       "3           4659  \n",
       "4           1077  \n",
       "5           9975  \n",
       "6           7045  \n",
       "7           3081  \n",
       "8          10323  \n",
       "9           1268  \n",
       "10          4605  \n",
       "11           452  \n",
       "12          1554  \n",
       "13          4199  \n",
       "14          4031  \n",
       "15          2054  "
      ]
     },
     "execution_count": 16,
     "metadata": {},
     "output_type": "execute_result"
    }
   ],
   "source": [
    "#7.02.01 Create table with historic evolution of each of the Top 30 2018 Crimes\n",
    "Merge_Table1 = pd.merge(Delitos_Alcaldia_2016_Resume_df, Delitos_Alcaldia_2017_Resume_df, \n",
    "                        on =\"alcaldia_hechos\")\n",
    "#Merge_Table1.head()\n",
    "Merge_Table2 = pd.merge(Merge_Table1, Delitos_Alcaldia_2018_Resume_df, \n",
    "                        on =\"alcaldia_hechos\")\n",
    "#merge_table2.head()\n",
    "Merge_Alcaldias= pd.merge(Merge_Table2, Delitos_Alcaldia_2019_Resume_df, on = \"alcaldia_hechos\")\n",
    "Merge_Alcaldias\n"
   ]
  },
  {
   "cell_type": "code",
   "execution_count": 17,
   "metadata": {},
   "outputs": [],
   "source": [
    "#Export CSV for information available to teamates \n",
    "export_csv = Merge_Alcaldias.to_csv (\"Delitos Por Año.csv\")"
   ]
  },
  {
   "cell_type": "code",
   "execution_count": 18,
   "metadata": {},
   "outputs": [
    {
     "data": {
      "image/png": "[encoded data removed]",
      "text/plain": [
       "<Figure size 432x288 with 1 Axes>"
      ]
     },
     "metadata": {
      "needs_background": "light"
     },
     "output_type": "display_data"
    }
   ],
   "source": [
    "#7.02.02 Create Graph for the historic evolution of each of the Top 30 2018 Crimes\n",
    "ax = plt.gca()\n",
    "\n",
    "Merge_Table2.plot(kind='bar',x='alcaldia_hechos',y='Delitos_2018', color='red', ax=ax)\n",
    "Merge_Table2.plot(kind='bar',x='alcaldia_hechos',y='Delitos_2017', color='teal', ax=ax)\n",
    "Merge_Table2.plot(kind='bar',x='alcaldia_hechos',y='Delitos_2016',color='olive', ax=ax)\n",
    "\n",
    "\n",
    "\n",
    "plt.legend(bbox_to_anchor=(1.05, 1), loc='upper left', borderaxespad=0.)\n",
    "plt.xticks(x='alcaldia_hechos', rotation='vertical')\n",
    "plt.title(\"Felonys in Alcaldias by Year\")\n",
    "plt.xlim(0,14)\n",
    "plt.xlabel(\"Alcaldias\")\n",
    "plt.ylabel(\"Felonys\")\n",
    "plt.savefig('Merge_Table2.png', bbox_inches='tight')\n",
    "\n",
    "\n",
    "plt.show()"
   ]
  },
  {
   "cell_type": "code",
   "execution_count": null,
   "metadata": {},
   "outputs": [],
   "source": []
  },
  {
   "cell_type": "code",
   "execution_count": null,
   "metadata": {},
   "outputs": [],
   "source": []
  },
  {
   "cell_type": "code",
   "execution_count": null,
   "metadata": {},
   "outputs": [],
   "source": []
  },
  {
   "cell_type": "code",
   "execution_count": null,
   "metadata": {},
   "outputs": [],
   "source": []
  },
  {
   "cell_type": "code",
   "execution_count": null,
   "metadata": {},
   "outputs": [],
   "source": []
  }
 ],
 "metadata": {
  "kernelspec": {
   "display_name": "Python 3",
   "language": "python",
   "name": "python3"
  },
  "language_info": {
   "codemirror_mode": {
    "name": "ipython",
    "version": 3
   },
   "file_extension": ".py",
   "mimetype": "text/x-python",
   "name": "python",
   "nbconvert_exporter": "python",
   "pygments_lexer": "ipython3",
   "version": "3.7.3"
  }
 },
 "nbformat": 4,
 "nbformat_minor": 2
}
